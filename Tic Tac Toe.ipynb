{
 "cells": [
  {
   "cell_type": "code",
   "execution_count": null,
   "metadata": {},
   "outputs": [
    {
     "name": "stdout",
     "output_type": "stream",
     "text": [
      "   |   |\n",
      " O | X |  \n",
      "   |   |\n",
      "----------\n",
      "   |   |\n",
      "   |   |  \n",
      "   |   |\n",
      "----------\n",
      "   |   |\n",
      "   |   |  \n",
      "   |   |\n"
     ]
    }
   ],
   "source": [
    "import random\n",
    "from IPython.display import clear_output\n",
    "def board(a,p,pos):\n",
    "    clear_output()\n",
    "    if(p!=''):\n",
    "        a[int((pos-1)/3)][int((pos-1)%3)]=p\n",
    "#     //board set up\n",
    "    for i in range(3):\n",
    "        print(\"   |   |\")\n",
    "        for j in range(3):\n",
    "            if(j==0 or j==1):\n",
    "                    print(f\" {a[i][j]} |\", end =\"\")\n",
    "            else:\n",
    "                    print( \" \"+a[i][j])\n",
    "        print(\"   |   |\")\n",
    "        if(i==0 or i==1):\n",
    "            print(\"----------\")\n",
    "\n",
    "def win(a,p):\n",
    "    for i in range(3):\n",
    "        if(a[i][0]!=\" \" and a[i][0]==a[i][1] and a[i][1]==a[i][2]):\n",
    "            print(f\"PLayer{(p+1)%2} has won\")\n",
    "            return  9\n",
    "    for j in range(3): \n",
    "        if(a[0][j]!=\" \" and a[0][j]==a[1][j] and a[1][j]==a[2][j]):\n",
    "            print(f\"PLayer{(p+1)%2} has won\")\n",
    "            return  9\n",
    "    if(a[0][0]!=\" \" and a[0][0]==a[1][1] and a[1][1]==a[2][2]) or (a[1][1]!=\" \"  and a[0][2]==a[1][1] and a[1][1]==a[2][0]):\n",
    "        print(f\"PLayer{p+1} has won\")\n",
    "        return  9\n",
    "    return ((p+1)%2)\n",
    "print(\"Welcome to Tic Tac Toe!\")\n",
    "j=\"Yes\"\n",
    "while(j==\"Yes\" ):\n",
    "    q=0\n",
    "    a=[[\" \" for i in range(3)] for j in range(3)]\n",
    "    c=input(\"PLayer 1: Do you want to be X OR 0?\")\n",
    "    p=random.randint(0,1)\n",
    "    print(f\"Player {p+1} will go first.\")\n",
    "    if(input(\"Are you ready to play? Enter Yes or No.\")==\"No\"):\n",
    "        break\n",
    "    board(a,\"\",3)\n",
    "    while(p!=9):\n",
    "        if(p==0 and c=='X')or(c=='0' and p==1):\n",
    "            board(a,\"X\",int(input(\"Choose your next position:(1-9)\")))\n",
    "        elif(p==0 and c=='0')or(c=='X' and p==1):\n",
    "            board(a,\"O\",int(input(\"Choose your next position:(1-9)\")))\n",
    "        p=win(a,p)\n",
    "        q=q+1\n",
    "        if(q==9 and p!=9):\n",
    "            print(\"draw\")\n",
    "            break\n",
    "        \n",
    "    j=input(\"Do you want to play again? Enter Yes or No:\")"
   ]
  },
  {
   "cell_type": "code",
   "execution_count": null,
   "metadata": {},
   "outputs": [],
   "source": []
  },
  {
   "cell_type": "code",
   "execution_count": null,
   "metadata": {},
   "outputs": [],
   "source": []
  },
  {
   "cell_type": "code",
   "execution_count": null,
   "metadata": {},
   "outputs": [],
   "source": []
  },
  {
   "cell_type": "code",
   "execution_count": null,
   "metadata": {},
   "outputs": [],
   "source": []
  }
 ],
 "metadata": {
  "kernelspec": {
   "display_name": "Python 3",
   "language": "python",
   "name": "python3"
  },
  "language_info": {
   "codemirror_mode": {
    "name": "ipython",
    "version": 3
   },
   "file_extension": ".py",
   "mimetype": "text/x-python",
   "name": "python",
   "nbconvert_exporter": "python",
   "pygments_lexer": "ipython3",
   "version": "3.8.5"
  }
 },
 "nbformat": 4,
 "nbformat_minor": 4
}
